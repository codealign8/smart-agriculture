{
 "cells": [
  {
   "cell_type": "code",
   "execution_count": 1,
   "id": "2fd0c78a-cb63-4451-8330-241f59f65422",
   "metadata": {},
   "outputs": [],
   "source": [
    "import numpy as np\n",
    "import pandas as pd\n",
    "import matplotlib.pyplot as plt\n",
    "%matplotlib inline\n",
    "import seaborn as sns\n",
    "import os\n",
    "import sys\n",
    "import warnings\n",
    "warnings.filterwarnings('ignore')"
   ]
  },
  {
   "cell_type": "code",
   "execution_count": 2,
   "id": "5f262ee9-dba4-4554-89a8-b428a190d1ca",
   "metadata": {},
   "outputs": [],
   "source": [
    "df1 = pd.read_csv(\"C:\\\\Users\\\\DELL\\\\Downloads\\\\crops_final.csv\")\n"
   ]
  },
  {
   "cell_type": "code",
   "execution_count": 3,
   "id": "df370203-4583-4273-985f-79b551648adc",
   "metadata": {},
   "outputs": [],
   "source": [
    "df2 = pd.read_csv(\"C:\\\\Users\\\\DELL\\\\Downloads\\\\crop_data.csv\")"
   ]
  },
  {
   "cell_type": "code",
   "execution_count": 4,
   "id": "e64ff219-e362-4604-af5d-007a9258ff27",
   "metadata": {},
   "outputs": [],
   "source": [
    "del df2['Unnamed: 0']"
   ]
  },
  {
   "cell_type": "code",
   "execution_count": 5,
   "id": "1845ce90-8eda-4c8b-aedb-2212c0742868",
   "metadata": {},
   "outputs": [
    {
     "data": {
      "text/plain": [
       "(121081, 15)"
      ]
     },
     "execution_count": 5,
     "metadata": {},
     "output_type": "execute_result"
    }
   ],
   "source": [
    "df1.shape"
   ]
  },
  {
   "cell_type": "code",
   "execution_count": 6,
   "id": "ada5f560-721c-4bf5-a85e-ca2525a6bb43",
   "metadata": {},
   "outputs": [
    {
     "data": {
      "text/plain": [
       "(121081, 10)"
      ]
     },
     "execution_count": 6,
     "metadata": {},
     "output_type": "execute_result"
    }
   ],
   "source": [
    "df2.shape"
   ]
  },
  {
   "cell_type": "code",
   "execution_count": 7,
   "id": "b2e25bd4-1ed0-4fce-a122-1f42f25f8b87",
   "metadata": {},
   "outputs": [
    {
     "data": {
      "text/plain": [
       "State_Name          0\n",
       "District_Name       0\n",
       "Crop_Year           0\n",
       "Season              0\n",
       "Area                0\n",
       "Production       1596\n",
       "Temperature         0\n",
       "PH                  0\n",
       "Rainfall            0\n",
       "Sowing Temp         0\n",
       "Harvest Temp        0\n",
       "Phosphorous         0\n",
       "Nitrogen            0\n",
       "Potash              0\n",
       "crop                0\n",
       "dtype: int64"
      ]
     },
     "execution_count": 7,
     "metadata": {},
     "output_type": "execute_result"
    }
   ],
   "source": [
    "df1.isnull().sum()"
   ]
  },
  {
   "cell_type": "code",
   "execution_count": 8,
   "id": "35362d21-b48c-4747-adb7-e1256c0b2c70",
   "metadata": {},
   "outputs": [
    {
     "data": {
      "text/plain": [
       "Temperature                     0\n",
       "PH                              0\n",
       "Rainfall                        0\n",
       "Phosphorous                     0\n",
       "Nitrogen                        0\n",
       "Potash                          0\n",
       "crop                            0\n",
       "Fertilisers required        16762\n",
       "Demand of crop              16762\n",
       "Crops for mixed cropping    16762\n",
       "dtype: int64"
      ]
     },
     "execution_count": 8,
     "metadata": {},
     "output_type": "execute_result"
    }
   ],
   "source": [
    "df2.isnull().sum()"
   ]
  },
  {
   "cell_type": "code",
   "execution_count": 9,
   "id": "a5b05e23-bc96-4800-9e99-437e2e5d9713",
   "metadata": {},
   "outputs": [],
   "source": [
    "df1 = df1.replace({'arhar/tur': 'Arhar', 'cotton(lint)': 'Cotton','dry chillies':'Chillies','gram':'Peas','linseed':'Flax','maize-k':'Maize','maize-r':'Maize',\n",
    "'cowpea(lobia)':'Cowpea','peas & beans (pulses)':'Pulses'})\n",
    "df1['crop'] = df1['crop'].str.capitalize()\n",
    "df1 = df1[['Temperature','PH','Rainfall','Phosphorous','Nitrogen','Potash','crop']]"
   ]
  },
  {
   "cell_type": "code",
   "execution_count": 10,
   "id": "9d52510e-6939-4412-8333-d7cd849154ff",
   "metadata": {},
   "outputs": [],
   "source": [
    "\n",
    "df2 = df2.replace({'Sweet potato': 'Potato'})\n",
    "df2 = df2[['crop','Fertilisers required','Demand of crop','Crops for mixed cropping']]\n"
   ]
  },
  {
   "cell_type": "code",
   "execution_count": 11,
   "id": "89a0a918-3037-4e1d-a24b-45bc49bfb20c",
   "metadata": {},
   "outputs": [],
   "source": [
    "# Remove duplicates\n",
    "df2.sort_values(\"crop\", inplace=True) \n",
    "df2.drop_duplicates(subset=\"crop\", keep='first', inplace=True)\n"
   ]
  },
  {
   "cell_type": "code",
   "execution_count": 12,
   "id": "eacabb7a-1f75-4735-b820-885dfb5d55c5",
   "metadata": {},
   "outputs": [],
   "source": [
    "# Merge dataframes\n",
    "df = pd.merge(df1, df2, how='left', on=['crop'])\n",
    "df.rename(columns={'Fertilisers required': 'Fertilisers_required',\n",
    "                   'Demand of crop': 'Demand_of_crop',\n",
    "                   'Crops for mixed cropping': 'Crops_for_mixed_cropping',\n",
    "                   'Demand of crop': 'Demand_of_crop'}, inplace=True)\n"
   ]
  },
  {
   "cell_type": "code",
   "execution_count": 13,
   "id": "87ae6dc7-c569-4803-b323-a1547ca4d634",
   "metadata": {},
   "outputs": [
    {
     "data": {
      "text/html": [
       "<div>\n",
       "<style scoped>\n",
       "    .dataframe tbody tr th:only-of-type {\n",
       "        vertical-align: middle;\n",
       "    }\n",
       "\n",
       "    .dataframe tbody tr th {\n",
       "        vertical-align: top;\n",
       "    }\n",
       "\n",
       "    .dataframe thead th {\n",
       "        text-align: right;\n",
       "    }\n",
       "</style>\n",
       "<table border=\"1\" class=\"dataframe\">\n",
       "  <thead>\n",
       "    <tr style=\"text-align: right;\">\n",
       "      <th></th>\n",
       "      <th>Temperature</th>\n",
       "      <th>PH</th>\n",
       "      <th>Rainfall</th>\n",
       "      <th>Phosphorous</th>\n",
       "      <th>Nitrogen</th>\n",
       "      <th>Potash</th>\n",
       "      <th>crop</th>\n",
       "      <th>Fertilisers_required</th>\n",
       "      <th>Demand_of_crop</th>\n",
       "      <th>Crops_for_mixed_cropping</th>\n",
       "    </tr>\n",
       "  </thead>\n",
       "  <tbody>\n",
       "    <tr>\n",
       "      <th>67147</th>\n",
       "      <td>19.184319</td>\n",
       "      <td>7.340134</td>\n",
       "      <td>93.905518</td>\n",
       "      <td>8.904506</td>\n",
       "      <td>4.431919</td>\n",
       "      <td>0.000000</td>\n",
       "      <td>Masoor</td>\n",
       "      <td>Rhizobium,Nitrogen</td>\n",
       "      <td>Moderate</td>\n",
       "      <td>Linseed, Sugarcane, Wheat, Mustard</td>\n",
       "    </tr>\n",
       "    <tr>\n",
       "      <th>57608</th>\n",
       "      <td>23.636566</td>\n",
       "      <td>8.738421</td>\n",
       "      <td>7.692527</td>\n",
       "      <td>39.293610</td>\n",
       "      <td>0.000000</td>\n",
       "      <td>0.000000</td>\n",
       "      <td>Coriander</td>\n",
       "      <td>NaN</td>\n",
       "      <td>NaN</td>\n",
       "      <td>NaN</td>\n",
       "    </tr>\n",
       "    <tr>\n",
       "      <th>74996</th>\n",
       "      <td>18.825578</td>\n",
       "      <td>5.237872</td>\n",
       "      <td>34.540699</td>\n",
       "      <td>70.782777</td>\n",
       "      <td>25.283370</td>\n",
       "      <td>23.808737</td>\n",
       "      <td>Potato</td>\n",
       "      <td>NPK(low)</td>\n",
       "      <td>Low</td>\n",
       "      <td>Legumes, Chickpea</td>\n",
       "    </tr>\n",
       "    <tr>\n",
       "      <th>49967</th>\n",
       "      <td>16.365598</td>\n",
       "      <td>8.048030</td>\n",
       "      <td>103.400736</td>\n",
       "      <td>11.600765</td>\n",
       "      <td>24.429931</td>\n",
       "      <td>5.356946</td>\n",
       "      <td>Barley</td>\n",
       "      <td>NPK</td>\n",
       "      <td>High</td>\n",
       "      <td>Wheat</td>\n",
       "    </tr>\n",
       "    <tr>\n",
       "      <th>66275</th>\n",
       "      <td>25.979687</td>\n",
       "      <td>6.869994</td>\n",
       "      <td>61.968002</td>\n",
       "      <td>22.630119</td>\n",
       "      <td>16.376572</td>\n",
       "      <td>0.000000</td>\n",
       "      <td>Flax</td>\n",
       "      <td>NPK,Sulfur</td>\n",
       "      <td>Moderate</td>\n",
       "      <td>Linseed, Legumes</td>\n",
       "    </tr>\n",
       "    <tr>\n",
       "      <th>71172</th>\n",
       "      <td>17.684458</td>\n",
       "      <td>5.805402</td>\n",
       "      <td>56.457643</td>\n",
       "      <td>42.166767</td>\n",
       "      <td>29.627189</td>\n",
       "      <td>0.000000</td>\n",
       "      <td>Bajra</td>\n",
       "      <td>Nitrogen,Phosphorus,Potash</td>\n",
       "      <td>Moderate</td>\n",
       "      <td>Black gram, Moong, Cowpea, Sorghum</td>\n",
       "    </tr>\n",
       "    <tr>\n",
       "      <th>57292</th>\n",
       "      <td>15.594059</td>\n",
       "      <td>6.121979</td>\n",
       "      <td>50.370741</td>\n",
       "      <td>41.334051</td>\n",
       "      <td>31.140324</td>\n",
       "      <td>0.000000</td>\n",
       "      <td>Bajra</td>\n",
       "      <td>Nitrogen,Phosphorus,Potash</td>\n",
       "      <td>Moderate</td>\n",
       "      <td>Black gram, Moong, Cowpea, Sorghum</td>\n",
       "    </tr>\n",
       "    <tr>\n",
       "      <th>33194</th>\n",
       "      <td>30.553431</td>\n",
       "      <td>7.480230</td>\n",
       "      <td>62.768242</td>\n",
       "      <td>17.733012</td>\n",
       "      <td>7.624919</td>\n",
       "      <td>10.116834</td>\n",
       "      <td>Arhar</td>\n",
       "      <td>NPK,Rhizobium</td>\n",
       "      <td>Moderate</td>\n",
       "      <td>Red gram, Tur Daal</td>\n",
       "    </tr>\n",
       "    <tr>\n",
       "      <th>44786</th>\n",
       "      <td>20.615772</td>\n",
       "      <td>7.057342</td>\n",
       "      <td>97.673165</td>\n",
       "      <td>6.954768</td>\n",
       "      <td>3.165026</td>\n",
       "      <td>0.000000</td>\n",
       "      <td>Masoor</td>\n",
       "      <td>Rhizobium,Nitrogen</td>\n",
       "      <td>Moderate</td>\n",
       "      <td>Linseed, Sugarcane, Wheat, Mustard</td>\n",
       "    </tr>\n",
       "    <tr>\n",
       "      <th>46254</th>\n",
       "      <td>24.448002</td>\n",
       "      <td>6.456080</td>\n",
       "      <td>98.576081</td>\n",
       "      <td>12.256154</td>\n",
       "      <td>27.796912</td>\n",
       "      <td>11.950847</td>\n",
       "      <td>Ragi</td>\n",
       "      <td>NPK</td>\n",
       "      <td>Moderate</td>\n",
       "      <td>Black gram, Moong, Cowpea, Sorghum</td>\n",
       "    </tr>\n",
       "  </tbody>\n",
       "</table>\n",
       "</div>"
      ],
      "text/plain": [
       "       Temperature        PH    Rainfall  Phosphorous   Nitrogen     Potash  \\\n",
       "67147    19.184319  7.340134   93.905518     8.904506   4.431919   0.000000   \n",
       "57608    23.636566  8.738421    7.692527    39.293610   0.000000   0.000000   \n",
       "74996    18.825578  5.237872   34.540699    70.782777  25.283370  23.808737   \n",
       "49967    16.365598  8.048030  103.400736    11.600765  24.429931   5.356946   \n",
       "66275    25.979687  6.869994   61.968002    22.630119  16.376572   0.000000   \n",
       "71172    17.684458  5.805402   56.457643    42.166767  29.627189   0.000000   \n",
       "57292    15.594059  6.121979   50.370741    41.334051  31.140324   0.000000   \n",
       "33194    30.553431  7.480230   62.768242    17.733012   7.624919  10.116834   \n",
       "44786    20.615772  7.057342   97.673165     6.954768   3.165026   0.000000   \n",
       "46254    24.448002  6.456080   98.576081    12.256154  27.796912  11.950847   \n",
       "\n",
       "            crop        Fertilisers_required Demand_of_crop  \\\n",
       "67147     Masoor          Rhizobium,Nitrogen       Moderate   \n",
       "57608  Coriander                         NaN            NaN   \n",
       "74996     Potato                    NPK(low)            Low   \n",
       "49967     Barley                         NPK           High   \n",
       "66275       Flax                  NPK,Sulfur       Moderate   \n",
       "71172      Bajra  Nitrogen,Phosphorus,Potash       Moderate   \n",
       "57292      Bajra  Nitrogen,Phosphorus,Potash       Moderate   \n",
       "33194      Arhar               NPK,Rhizobium       Moderate   \n",
       "44786     Masoor          Rhizobium,Nitrogen       Moderate   \n",
       "46254       Ragi                         NPK       Moderate   \n",
       "\n",
       "                 Crops_for_mixed_cropping  \n",
       "67147  Linseed, Sugarcane, Wheat, Mustard  \n",
       "57608                                 NaN  \n",
       "74996                   Legumes, Chickpea  \n",
       "49967                               Wheat  \n",
       "66275                    Linseed, Legumes  \n",
       "71172  Black gram, Moong, Cowpea, Sorghum  \n",
       "57292  Black gram, Moong, Cowpea, Sorghum  \n",
       "33194                  Red gram, Tur Daal  \n",
       "44786  Linseed, Sugarcane, Wheat, Mustard  \n",
       "46254  Black gram, Moong, Cowpea, Sorghum  "
      ]
     },
     "execution_count": 13,
     "metadata": {},
     "output_type": "execute_result"
    }
   ],
   "source": [
    "df.sample(10)"
   ]
  },
  {
   "cell_type": "code",
   "execution_count": 14,
   "id": "ff77a7e9-8632-4c91-ad17-17e9b03ea0b9",
   "metadata": {},
   "outputs": [
    {
     "data": {
      "text/plain": [
       "Temperature                     0\n",
       "PH                              0\n",
       "Rainfall                        0\n",
       "Phosphorous                     0\n",
       "Nitrogen                        0\n",
       "Potash                          0\n",
       "crop                            0\n",
       "Fertilisers_required        16762\n",
       "Demand_of_crop              16762\n",
       "Crops_for_mixed_cropping    16762\n",
       "dtype: int64"
      ]
     },
     "execution_count": 14,
     "metadata": {},
     "output_type": "execute_result"
    }
   ],
   "source": [
    "df.isnull().sum()"
   ]
  },
  {
   "cell_type": "code",
   "execution_count": 15,
   "id": "a4457e4e-312a-4d35-9f5f-9ff37504022b",
   "metadata": {},
   "outputs": [],
   "source": [
    "df = df.dropna()"
   ]
  },
  {
   "cell_type": "code",
   "execution_count": 16,
   "id": "a1faca5b-d738-4e75-aaaf-73a4dfae30f3",
   "metadata": {},
   "outputs": [
    {
     "data": {
      "application/vnd.jupyter.widget-view+json": {
       "model_id": "340b16e60f1044ddbf4a622172c54bda",
       "version_major": 2,
       "version_minor": 0
      },
      "text/plain": [
       "Summarize dataset:   0%|          | 0/5 [00:00<?, ?it/s]"
      ]
     },
     "metadata": {},
     "output_type": "display_data"
    },
    {
     "data": {
      "application/vnd.jupyter.widget-view+json": {
       "model_id": "c1a7da54e23e419ebf94c066691f847f",
       "version_major": 2,
       "version_minor": 0
      },
      "text/plain": [
       "Generate report structure:   0%|          | 0/1 [00:00<?, ?it/s]"
      ]
     },
     "metadata": {},
     "output_type": "display_data"
    },
    {
     "data": {
      "application/vnd.jupyter.widget-view+json": {
       "model_id": "13327e7dee3c4da3b24f7531ba6e18af",
       "version_major": 2,
       "version_minor": 0
      },
      "text/plain": [
       "Render HTML:   0%|          | 0/1 [00:00<?, ?it/s]"
      ]
     },
     "metadata": {},
     "output_type": "display_data"
    },
    {
     "data": {
      "application/vnd.jupyter.widget-view+json": {
       "model_id": "d654ceed7e384b76bc2e09dc4e2f355c",
       "version_major": 2,
       "version_minor": 0
      },
      "text/plain": [
       "Export report to file:   0%|          | 0/1 [00:00<?, ?it/s]"
      ]
     },
     "metadata": {},
     "output_type": "display_data"
    }
   ],
   "source": [
    "from pandas_profiling import ProfileReport\n",
    "\n",
    "# Generate the profile report\n",
    "profile = ProfileReport(df, title='Crop Value', html={'style': {'full_width': True}})\n",
    "\n",
    "# Save the report as an HTML file\n",
    "profile.to_file(\"crop_value_report.html\")\n"
   ]
  },
  {
   "cell_type": "code",
   "execution_count": 17,
   "id": "3c19e4b0-a855-4137-85e9-9e3ebcfa3a80",
   "metadata": {
    "scrolled": true
   },
   "outputs": [
    {
     "data": {
      "text/html": [
       "<div>\n",
       "<style scoped>\n",
       "    .dataframe tbody tr th:only-of-type {\n",
       "        vertical-align: middle;\n",
       "    }\n",
       "\n",
       "    .dataframe tbody tr th {\n",
       "        vertical-align: top;\n",
       "    }\n",
       "\n",
       "    .dataframe thead th {\n",
       "        text-align: right;\n",
       "    }\n",
       "</style>\n",
       "<table border=\"1\" class=\"dataframe\">\n",
       "  <thead>\n",
       "    <tr style=\"text-align: right;\">\n",
       "      <th></th>\n",
       "      <th>Temperature</th>\n",
       "      <th>PH</th>\n",
       "      <th>Rainfall</th>\n",
       "      <th>Phosphorous</th>\n",
       "      <th>Nitrogen</th>\n",
       "      <th>Potash</th>\n",
       "      <th>crop</th>\n",
       "      <th>Fertilisers_required</th>\n",
       "      <th>Demand_of_crop</th>\n",
       "      <th>Crops_for_mixed_cropping</th>\n",
       "    </tr>\n",
       "  </thead>\n",
       "  <tbody>\n",
       "    <tr>\n",
       "      <th>27397</th>\n",
       "      <td>23.523042</td>\n",
       "      <td>6.755990</td>\n",
       "      <td>51.330198</td>\n",
       "      <td>6.342159</td>\n",
       "      <td>6.087057</td>\n",
       "      <td>10.368891</td>\n",
       "      <td>Groundnut</td>\n",
       "      <td>Superphosphate,Potassium</td>\n",
       "      <td>High</td>\n",
       "      <td>Sorghum, Millet</td>\n",
       "    </tr>\n",
       "    <tr>\n",
       "      <th>85558</th>\n",
       "      <td>29.003616</td>\n",
       "      <td>6.789666</td>\n",
       "      <td>70.232415</td>\n",
       "      <td>31.032948</td>\n",
       "      <td>10.874381</td>\n",
       "      <td>0.000000</td>\n",
       "      <td>Cotton</td>\n",
       "      <td>NPK</td>\n",
       "      <td>High</td>\n",
       "      <td>Lentil, Gram, pea</td>\n",
       "    </tr>\n",
       "    <tr>\n",
       "      <th>83093</th>\n",
       "      <td>22.972830</td>\n",
       "      <td>5.269020</td>\n",
       "      <td>118.688561</td>\n",
       "      <td>88.027199</td>\n",
       "      <td>0.000000</td>\n",
       "      <td>0.000000</td>\n",
       "      <td>Sugarcane</td>\n",
       "      <td>Nitrogen</td>\n",
       "      <td>High</td>\n",
       "      <td>Maize, Potato</td>\n",
       "    </tr>\n",
       "    <tr>\n",
       "      <th>54643</th>\n",
       "      <td>24.709605</td>\n",
       "      <td>7.910412</td>\n",
       "      <td>19.405670</td>\n",
       "      <td>47.577237</td>\n",
       "      <td>10.988199</td>\n",
       "      <td>11.988382</td>\n",
       "      <td>Rice</td>\n",
       "      <td>Urea</td>\n",
       "      <td>Rice</td>\n",
       "      <td>Gram, Groundnut</td>\n",
       "    </tr>\n",
       "    <tr>\n",
       "      <th>61152</th>\n",
       "      <td>23.462464</td>\n",
       "      <td>5.713404</td>\n",
       "      <td>44.991537</td>\n",
       "      <td>75.904819</td>\n",
       "      <td>26.006985</td>\n",
       "      <td>26.315766</td>\n",
       "      <td>Potato</td>\n",
       "      <td>NPK(low)</td>\n",
       "      <td>Low</td>\n",
       "      <td>Legumes, Chickpea</td>\n",
       "    </tr>\n",
       "    <tr>\n",
       "      <th>96836</th>\n",
       "      <td>27.470983</td>\n",
       "      <td>5.804137</td>\n",
       "      <td>197.638904</td>\n",
       "      <td>8.659992</td>\n",
       "      <td>11.180691</td>\n",
       "      <td>11.212632</td>\n",
       "      <td>Turmeric</td>\n",
       "      <td>Nitrogen,Potassium,Phosphorus</td>\n",
       "      <td>Moderate</td>\n",
       "      <td>Coconut, Arecanut</td>\n",
       "    </tr>\n",
       "    <tr>\n",
       "      <th>17854</th>\n",
       "      <td>19.183698</td>\n",
       "      <td>5.868781</td>\n",
       "      <td>42.899155</td>\n",
       "      <td>39.433207</td>\n",
       "      <td>29.811111</td>\n",
       "      <td>0.000000</td>\n",
       "      <td>Bajra</td>\n",
       "      <td>Nitrogen,Phosphorus,Potash</td>\n",
       "      <td>Moderate</td>\n",
       "      <td>Black gram, Moong, Cowpea, Sorghum</td>\n",
       "    </tr>\n",
       "    <tr>\n",
       "      <th>92188</th>\n",
       "      <td>22.966858</td>\n",
       "      <td>6.262612</td>\n",
       "      <td>80.177620</td>\n",
       "      <td>11.929443</td>\n",
       "      <td>26.861445</td>\n",
       "      <td>12.195654</td>\n",
       "      <td>Chillies</td>\n",
       "      <td>Compost,Nitrogen,Phosphorus</td>\n",
       "      <td>Low</td>\n",
       "      <td>Maize, Brinjal, Garlic</td>\n",
       "    </tr>\n",
       "    <tr>\n",
       "      <th>42662</th>\n",
       "      <td>29.378424</td>\n",
       "      <td>6.181976</td>\n",
       "      <td>143.924659</td>\n",
       "      <td>13.343762</td>\n",
       "      <td>27.517913</td>\n",
       "      <td>12.836995</td>\n",
       "      <td>Chillies</td>\n",
       "      <td>Compost,Nitrogen,Phosphorus</td>\n",
       "      <td>Low</td>\n",
       "      <td>Maize, Brinjal, Garlic</td>\n",
       "    </tr>\n",
       "    <tr>\n",
       "      <th>84944</th>\n",
       "      <td>15.440561</td>\n",
       "      <td>6.011438</td>\n",
       "      <td>49.274055</td>\n",
       "      <td>39.865811</td>\n",
       "      <td>27.130754</td>\n",
       "      <td>0.000000</td>\n",
       "      <td>Bajra</td>\n",
       "      <td>Nitrogen,Phosphorus,Potash</td>\n",
       "      <td>Moderate</td>\n",
       "      <td>Black gram, Moong, Cowpea, Sorghum</td>\n",
       "    </tr>\n",
       "  </tbody>\n",
       "</table>\n",
       "</div>"
      ],
      "text/plain": [
       "       Temperature        PH    Rainfall  Phosphorous   Nitrogen     Potash  \\\n",
       "27397    23.523042  6.755990   51.330198     6.342159   6.087057  10.368891   \n",
       "85558    29.003616  6.789666   70.232415    31.032948  10.874381   0.000000   \n",
       "83093    22.972830  5.269020  118.688561    88.027199   0.000000   0.000000   \n",
       "54643    24.709605  7.910412   19.405670    47.577237  10.988199  11.988382   \n",
       "61152    23.462464  5.713404   44.991537    75.904819  26.006985  26.315766   \n",
       "96836    27.470983  5.804137  197.638904     8.659992  11.180691  11.212632   \n",
       "17854    19.183698  5.868781   42.899155    39.433207  29.811111   0.000000   \n",
       "92188    22.966858  6.262612   80.177620    11.929443  26.861445  12.195654   \n",
       "42662    29.378424  6.181976  143.924659    13.343762  27.517913  12.836995   \n",
       "84944    15.440561  6.011438   49.274055    39.865811  27.130754   0.000000   \n",
       "\n",
       "            crop           Fertilisers_required Demand_of_crop  \\\n",
       "27397  Groundnut       Superphosphate,Potassium           High   \n",
       "85558     Cotton                            NPK           High   \n",
       "83093  Sugarcane                       Nitrogen           High   \n",
       "54643       Rice                           Urea           Rice   \n",
       "61152     Potato                       NPK(low)            Low   \n",
       "96836   Turmeric  Nitrogen,Potassium,Phosphorus       Moderate   \n",
       "17854      Bajra     Nitrogen,Phosphorus,Potash       Moderate   \n",
       "92188   Chillies    Compost,Nitrogen,Phosphorus            Low   \n",
       "42662   Chillies    Compost,Nitrogen,Phosphorus            Low   \n",
       "84944      Bajra     Nitrogen,Phosphorus,Potash       Moderate   \n",
       "\n",
       "                 Crops_for_mixed_cropping  \n",
       "27397                     Sorghum, Millet  \n",
       "85558                   Lentil, Gram, pea  \n",
       "83093                       Maize, Potato  \n",
       "54643                     Gram, Groundnut  \n",
       "61152                   Legumes, Chickpea  \n",
       "96836                   Coconut, Arecanut  \n",
       "17854  Black gram, Moong, Cowpea, Sorghum  \n",
       "92188              Maize, Brinjal, Garlic  \n",
       "42662              Maize, Brinjal, Garlic  \n",
       "84944  Black gram, Moong, Cowpea, Sorghum  "
      ]
     },
     "execution_count": 17,
     "metadata": {},
     "output_type": "execute_result"
    }
   ],
   "source": [
    "df.sample(10)"
   ]
  },
  {
   "cell_type": "code",
   "execution_count": 18,
   "id": "1cf2ad9f-698c-46d3-acc2-c6cd08fdd2b5",
   "metadata": {},
   "outputs": [],
   "source": [
    "df_copy = df.copy()"
   ]
  },
  {
   "cell_type": "code",
   "execution_count": 19,
   "id": "5a98c2fa-801b-40ef-b6f8-a685b70099fd",
   "metadata": {},
   "outputs": [],
   "source": [
    "df_copy = df.copy()\n",
    "df_copy = df_copy.drop(['Crops_for_mixed_cropping','Fertilisers_required','Demand_of_crop'], axis='columns')"
   ]
  },
  {
   "cell_type": "code",
   "execution_count": 20,
   "id": "aa2afeb6-e81b-4d4a-bdf4-5ce50ec77405",
   "metadata": {},
   "outputs": [
    {
     "data": {
      "text/html": [
       "<div>\n",
       "<style scoped>\n",
       "    .dataframe tbody tr th:only-of-type {\n",
       "        vertical-align: middle;\n",
       "    }\n",
       "\n",
       "    .dataframe tbody tr th {\n",
       "        vertical-align: top;\n",
       "    }\n",
       "\n",
       "    .dataframe thead th {\n",
       "        text-align: right;\n",
       "    }\n",
       "</style>\n",
       "<table border=\"1\" class=\"dataframe\">\n",
       "  <thead>\n",
       "    <tr style=\"text-align: right;\">\n",
       "      <th></th>\n",
       "      <th>Temperature</th>\n",
       "      <th>PH</th>\n",
       "      <th>Rainfall</th>\n",
       "      <th>Phosphorous</th>\n",
       "      <th>Nitrogen</th>\n",
       "      <th>Potash</th>\n",
       "      <th>crop</th>\n",
       "    </tr>\n",
       "  </thead>\n",
       "  <tbody>\n",
       "    <tr>\n",
       "      <th>74838</th>\n",
       "      <td>24.131964</td>\n",
       "      <td>6.005982</td>\n",
       "      <td>148.420638</td>\n",
       "      <td>25.923276</td>\n",
       "      <td>39.030226</td>\n",
       "      <td>0.0</td>\n",
       "      <td>Pulses</td>\n",
       "    </tr>\n",
       "  </tbody>\n",
       "</table>\n",
       "</div>"
      ],
      "text/plain": [
       "       Temperature        PH    Rainfall  Phosphorous   Nitrogen  Potash  \\\n",
       "74838    24.131964  6.005982  148.420638    25.923276  39.030226     0.0   \n",
       "\n",
       "         crop  \n",
       "74838  Pulses  "
      ]
     },
     "execution_count": 20,
     "metadata": {},
     "output_type": "execute_result"
    }
   ],
   "source": [
    "df_copy.sample()"
   ]
  },
  {
   "cell_type": "code",
   "execution_count": 21,
   "id": "cce592fe-d230-46e0-9eac-d328f4be3d94",
   "metadata": {},
   "outputs": [],
   "source": [
    "# Define the target and feature columns\n",
    "target = 'crop'\n",
    "features = ['Nitrogen', 'Phosphorous', 'Potash', 'Temperature', 'PH', 'Rainfall']\n",
    "\n",
    "# Create the feature matrix X and the target vector y\n",
    "X = df_copy[features]\n",
    "y = df_copy[[target]]\n"
   ]
  },
  {
   "cell_type": "code",
   "execution_count": 22,
   "id": "3f9c24cd-d0a3-4e29-b394-ba69276c6a1b",
   "metadata": {},
   "outputs": [],
   "source": [
    "# Define the target and feature columns\n",
    "target = 'crop'\n",
    "features = ['Nitrogen', 'Phosphorous', 'Potash', 'Temperature', 'PH', 'Rainfall']\n",
    "\n",
    "# Create the feature matrix X and the target vector y\n",
    "X = df_copy[features]\n",
    "y = df_copy[[target]]\n"
   ]
  },
  {
   "cell_type": "code",
   "execution_count": 23,
   "id": "2ab6dbfb-e73c-4b9a-b78a-a9c546aa3542",
   "metadata": {},
   "outputs": [],
   "source": [
    "from sklearn.model_selection import train_test_split\n",
    "from sklearn.metrics import accuracy_score\n",
    "from sklearn.ensemble import RandomForestClassifier\n",
    "from sklearn.svm import SVC\n",
    "from sklearn.linear_model import LogisticRegression\n",
    "from sklearn.neighbors import KNeighborsClassifier\n",
    "from sklearn.naive_bayes import GaussianNB\n",
    "from sklearn.tree import DecisionTreeClassifier\n"
   ]
  },
  {
   "cell_type": "code",
   "execution_count": 24,
   "id": "0f361138-fca1-429c-a0d9-22eed958e287",
   "metadata": {},
   "outputs": [],
   "source": [
    "# Train-test split\n",
    "from sklearn.model_selection import train_test_split\n",
    "X_train, X_test, y_train, y_test = train_test_split(X, y, test_size=0.2, random_state=42, shuffle=True)"
   ]
  },
  {
   "cell_type": "code",
   "execution_count": 25,
   "id": "f922cfa8-1891-40f1-9543-ed1cf8067e36",
   "metadata": {},
   "outputs": [],
   "source": [
    "classifiers = {\n",
    "    \"Random Forest\": RandomForestClassifier(),\n",
    "    \"Support Vector Machine\": SVC(),\n",
    "    \"Logistic Regression\": LogisticRegression(max_iter=1000),\n",
    "    \"K-Nearest Neighbors\": KNeighborsClassifier(),\n",
    "    \"Naive Bayes\": GaussianNB(),\n",
    "    \"Decision Tree\": DecisionTreeClassifier()\n",
    "}"
   ]
  },
  {
   "cell_type": "code",
   "execution_count": 26,
   "id": "16f2b096-aa85-4fc6-885c-8a6723154510",
   "metadata": {},
   "outputs": [],
   "source": [
    "performance = {}\n",
    "models = {}\n",
    "Predictions = {}"
   ]
  },
  {
   "cell_type": "code",
   "execution_count": 27,
   "id": "11f894d9-0fa4-46ad-bfb4-0f14b93dffde",
   "metadata": {},
   "outputs": [],
   "source": [
    "# Train and evaluate each classifier\n",
    "for name, clf in classifiers.items():\n",
    "    clf.fit(X_train, y_train)\n",
    "    y_pred = clf.predict(X_test)\n",
    "    accuracy = accuracy_score(y_test, y_pred)\n",
    "    performance[name] = accuracy"
   ]
  },
  {
   "cell_type": "code",
   "execution_count": 28,
   "id": "5c1239d7-98f1-49b5-95f6-d5e903157c0c",
   "metadata": {},
   "outputs": [
    {
     "name": "stdout",
     "output_type": "stream",
     "text": [
      "Random Forest: 0.9958\n",
      "Support Vector Machine: 0.9867\n",
      "Logistic Regression: 0.9725\n",
      "K-Nearest Neighbors: 0.9917\n",
      "Naive Bayes: 0.9938\n",
      "Decision Tree: 0.9947\n"
     ]
    }
   ],
   "source": [
    "for name, accuracy in performance.items():\n",
    "    print(f\"{name}: {accuracy:.4f}\")"
   ]
  },
  {
   "cell_type": "code",
   "execution_count": 29,
   "id": "30e5091e-8238-42d5-8b90-6e1f79ef01f6",
   "metadata": {},
   "outputs": [
    {
     "name": "stdout",
     "output_type": "stream",
     "text": [
      "Bagging Classifier's Accuracy is:  0.995590490797546\n",
      "              precision    recall  f1-score   support\n",
      "\n",
      "       Arhar       1.00      1.00      1.00      1390\n",
      "       Bajra       1.00      1.00      1.00       919\n",
      "      Barley       1.00      1.00      1.00       793\n",
      "    Chillies       0.93      0.96      0.95       837\n",
      "      Cotton       1.00      1.00      1.00       851\n",
      "      Cowpea       0.97      1.00      0.98        31\n",
      "        Flax       1.00      1.00      1.00       855\n",
      "      Garlic       1.00      1.00      1.00       111\n",
      "   Groundnut       1.00      1.00      1.00      1072\n",
      "       Jowar       1.00      1.00      1.00       310\n",
      "       Maize       1.00      1.00      1.00      2012\n",
      "      Masoor       1.00      1.00      1.00       799\n",
      "       Onion       1.00      1.00      1.00       783\n",
      "        Peas       1.00      1.00      1.00      1428\n",
      "      Potato       1.00      1.00      1.00       838\n",
      "      Pulses       1.00      1.00      1.00       792\n",
      "        Ragi       0.93      0.87      0.90       475\n",
      "        Rice       1.00      1.00      1.00      1327\n",
      "   Sugarcane       1.00      1.00      1.00      1257\n",
      "   Sunflower       1.00      1.00      1.00       539\n",
      "    Turmeric       1.00      1.00      1.00       735\n",
      "        Urad       1.00      1.00      1.00      1211\n",
      "       Wheat       1.00      1.00      1.00      1499\n",
      "\n",
      "    accuracy                           1.00     20864\n",
      "   macro avg       0.99      0.99      0.99     20864\n",
      "weighted avg       1.00      1.00      1.00     20864\n",
      "\n"
     ]
    }
   ],
   "source": [
    "from sklearn.ensemble import BaggingClassifier\n",
    "from sklearn.metrics import classification_report, accuracy_score  # Import accuracy_score from metrics module\n",
    "\n",
    "BC = BaggingClassifier()\n",
    "BC.fit(X_train, y_train)\n",
    "\n",
    "predicted_values = BC.predict(X_test)\n",
    "x = accuracy_score(y_test, predicted_values)  # Using accuracy_score directly\n",
    "\n",
    "print(\"Bagging Classifier's Accuracy is: \", x)\n",
    "\n",
    "print(classification_report(y_test, predicted_values))\n"
   ]
  },
  {
   "cell_type": "code",
   "execution_count": 30,
   "id": "90d83fb1-5fca-4cc2-8025-1f847521887e",
   "metadata": {},
   "outputs": [
    {
     "name": "stdout",
     "output_type": "stream",
     "text": [
      "[0.9962615  0.99535084 0.99559049 0.99525498 0.99491924]\n"
     ]
    }
   ],
   "source": [
    "from sklearn.model_selection import cross_val_score  # Import cross_val_score\n",
    "\n",
    "# Cross validation score (NaiveBayes)\n",
    "score = cross_val_score(BC, X, y, cv=5)\n",
    "print(score)\n"
   ]
  },
  {
   "cell_type": "code",
   "execution_count": 31,
   "id": "57a82f5a-814a-4231-9277-7a8b76f9ff83",
   "metadata": {},
   "outputs": [],
   "source": [
    "import pickle\n",
    "\n",
    "BC_pkl_filename = 'BaggingClassifier.pkl'\n",
    "\n",
    "BC_Model_pkl = open(BC_pkl_filename, 'wb')\n",
    "pickle.dump(BC, BC_Model_pkl)\n",
    "\n",
    "BC_Model_pkl.close()"
   ]
  },
  {
   "cell_type": "code",
   "execution_count": 32,
   "id": "26010ca7-9079-4afd-8884-f1d2a3b192f1",
   "metadata": {},
   "outputs": [
    {
     "name": "stdout",
     "output_type": "stream",
     "text": [
      "['Maize']\n"
     ]
    }
   ],
   "source": [
    "data = np.array([[83, 45, 60, 28, 7.0, 150.9]])\n",
    "prediction = BC.predict(data)\n",
    "print(prediction)"
   ]
  },
  {
   "cell_type": "code",
   "execution_count": null,
   "id": "de96c941-7e47-424f-8715-131b2fb5691d",
   "metadata": {},
   "outputs": [],
   "source": []
  }
 ],
 "metadata": {
  "kernelspec": {
   "display_name": "Python 3 (ipykernel)",
   "language": "python",
   "name": "python3"
  },
  "language_info": {
   "codemirror_mode": {
    "name": "ipython",
    "version": 3
   },
   "file_extension": ".py",
   "mimetype": "text/x-python",
   "name": "python",
   "nbconvert_exporter": "python",
   "pygments_lexer": "ipython3",
   "version": "3.12.2"
  }
 },
 "nbformat": 4,
 "nbformat_minor": 5
}
